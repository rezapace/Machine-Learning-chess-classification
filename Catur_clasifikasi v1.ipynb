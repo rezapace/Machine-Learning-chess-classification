{
  "nbformat": 4,
  "nbformat_minor": 0,
  "metadata": {
    "colab": {
      "provenance": [],
      "gpuType": "T4"
    },
    "kernelspec": {
      "name": "python3",
      "display_name": "Python 3"
    },
    "language_info": {
      "name": "python"
    },
    "accelerator": "GPU"
  },
  "cells": [
    {
      "cell_type": "code",
      "source": [
        "!apt install unzip\n",
        "\n",
        "!unzip -q \"/content/Dataset_Catur.zip\""
      ],
      "metadata": {
        "colab": {
          "base_uri": "https://localhost:8080/"
        },
        "id": "XhYvmDzOPMik",
        "outputId": "be1ccc42-2de1-44b8-f0c0-dbeb782bbe41"
      },
      "execution_count": 3,
      "outputs": [
        {
          "output_type": "stream",
          "name": "stdout",
          "text": [
            "Reading package lists... Done\n",
            "Building dependency tree... Done\n",
            "Reading state information... Done\n",
            "unzip is already the newest version (6.0-26ubuntu3.2).\n",
            "0 upgraded, 0 newly installed, 0 to remove and 45 not upgraded.\n"
          ]
        }
      ]
    },
    {
      "cell_type": "markdown",
      "source": [
        "Part 1: Importing Libraries\n"
      ],
      "metadata": {
        "id": "xbT8__apOVx8"
      }
    },
    {
      "cell_type": "code",
      "execution_count": 31,
      "metadata": {
        "colab": {
          "base_uri": "https://localhost:8080/"
        },
        "id": "jO5OywOEN8M_",
        "outputId": "2d5bd4d5-e7a4-4bc2-fa8a-c9728108d1fc"
      },
      "outputs": [
        {
          "output_type": "stream",
          "name": "stdout",
          "text": [
            "Libraries imported successfully.\n"
          ]
        }
      ],
      "source": [
        "# Part 1: Importing Libraries\n",
        "import tensorflow as tf\n",
        "from tensorflow.keras.preprocessing.image import ImageDataGenerator, load_img, img_to_array\n",
        "from tensorflow.keras.models import Sequential, load_model, Model\n",
        "from tensorflow.keras.layers import Conv2D, MaxPooling2D, Flatten, Dense, Dropout, BatchNormalization, GlobalAveragePooling2D\n",
        "from tensorflow.keras.optimizers import Adam\n",
        "from tensorflow.keras.applications import ResNet50\n",
        "from tensorflow.keras.callbacks import EarlyStopping, ModelCheckpoint, ReduceLROnPlateau\n",
        "import matplotlib.pyplot as plt\n",
        "import numpy as np\n",
        "import os\n",
        "\n",
        "print(\"Libraries imported successfully.\")\n"
      ]
    },
    {
      "cell_type": "markdown",
      "source": [
        "Part 2: Loading and Preprocessing the Data\n"
      ],
      "metadata": {
        "id": "guxiLgwZOUiC"
      }
    },
    {
      "cell_type": "code",
      "source": [
        "# Part 2: Loading and Preprocessing the Data with Advanced Data Augmentation\n",
        "def load_data(data_directory, img_size=(224, 224)):\n",
        "    try:\n",
        "        datagen = ImageDataGenerator(\n",
        "            rescale=1./255,\n",
        "            validation_split=0.2,\n",
        "            rotation_range=30,\n",
        "            width_shift_range=0.3,\n",
        "            height_shift_range=0.3,\n",
        "            shear_range=0.3,\n",
        "            zoom_range=0.3,\n",
        "            horizontal_flip=True,\n",
        "            fill_mode='nearest'\n",
        "        )\n",
        "        train_data = datagen.flow_from_directory(\n",
        "            data_directory,\n",
        "            target_size=img_size,\n",
        "            batch_size=32,\n",
        "            class_mode='categorical',\n",
        "            subset='training'\n",
        "        )\n",
        "        val_data = datagen.flow_from_directory(\n",
        "            data_directory,\n",
        "            target_size=img_size,\n",
        "            batch_size=32,\n",
        "            class_mode='categorical',\n",
        "            subset='validation'\n",
        "        )\n",
        "\n",
        "        # Print class indices for debugging\n",
        "        print(\"Class indices:\", train_data.class_indices)\n",
        "\n",
        "        # Verify the number of classes\n",
        "        assert len(train_data.class_indices) == 5, \"Number of classes should be 5\"\n",
        "\n",
        "        print(\"Data loaded successfully.\")\n",
        "        return train_data, val_data\n",
        "    except Exception as e:\n",
        "        print(f\"Error loading data: {e}\")\n",
        "        return None, None\n",
        "\n",
        "data_directory = 'Dataset_Catur'\n",
        "train_data, val_data = load_data(data_directory)\n"
      ],
      "metadata": {
        "colab": {
          "base_uri": "https://localhost:8080/"
        },
        "id": "tIRXJ_iTOBu0",
        "outputId": "50603185-de7c-471f-8727-bde9c4dfa64d"
      },
      "execution_count": 32,
      "outputs": [
        {
          "output_type": "stream",
          "name": "stdout",
          "text": [
            "Found 503 images belonging to 5 classes.\n",
            "Found 123 images belonging to 5 classes.\n",
            "Class indices: {'benteng': 0, 'pion': 1, 'queen': 2, 'raja': 3, 'seluncur': 4}\n",
            "Data loaded successfully.\n"
          ]
        }
      ]
    },
    {
      "cell_type": "markdown",
      "source": [
        "Part 3: Building the Model\n"
      ],
      "metadata": {
        "id": "mTZgs4sPOQ9O"
      }
    },
    {
      "cell_type": "code",
      "source": [
        "# Part 3: Building the Model with EfficientNet and Fine-tuning\n",
        "def build_model(input_shape):\n",
        "    try:\n",
        "        base_model = tf.keras.applications.EfficientNetB0(weights='imagenet', include_top=False, input_shape=input_shape)\n",
        "        base_model.trainable = True  # Fine-tune the pre-trained model\n",
        "\n",
        "        model = Sequential([\n",
        "            base_model,\n",
        "            GlobalAveragePooling2D(),\n",
        "            Dense(512, activation='relu'),\n",
        "            BatchNormalization(),\n",
        "            Dropout(0.5),\n",
        "            Dense(5, activation='softmax')  # 5 classes: benteng, king, pion, queen, seluncur\n",
        "        ])\n",
        "        model.compile(optimizer=Adam(learning_rate=1e-4), loss='categorical_crossentropy', metrics=['accuracy'])\n",
        "        print(\"Model built successfully.\")\n",
        "        return model\n",
        "    except Exception as e:\n",
        "        print(f\"Error building model: {e}\")\n",
        "        return None\n",
        "\n",
        "if train_data:\n",
        "    input_shape = (224, 224, 3)  # EfficientNet input shape\n",
        "    model = build_model(input_shape)\n",
        "else:\n",
        "    model = None\n"
      ],
      "metadata": {
        "colab": {
          "base_uri": "https://localhost:8080/"
        },
        "id": "zxMsX8-TOCju",
        "outputId": "8357dd38-7422-4709-9a6c-f5bca25693a8"
      },
      "execution_count": 33,
      "outputs": [
        {
          "output_type": "stream",
          "name": "stdout",
          "text": [
            "Model built successfully.\n"
          ]
        }
      ]
    },
    {
      "cell_type": "markdown",
      "source": [
        "Part 4: Training the Model\n"
      ],
      "metadata": {
        "id": "pZ6QWVT6ONxR"
      }
    },
    {
      "cell_type": "code",
      "source": [
        "# Part 4: Training the Model with Advanced Callbacks and Fine-tuning\n",
        "def train_model(model, train_data, val_data, epochs=50):\n",
        "    try:\n",
        "        early_stopping = EarlyStopping(monitor='val_loss', patience=10, restore_best_weights=True)\n",
        "        model_checkpoint = ModelCheckpoint('best_chess_piece_classifier.keras', save_best_only=True, monitor='val_loss')\n",
        "        reduce_lr = ReduceLROnPlateau(monitor='val_loss', factor=0.2, patience=5, min_lr=1e-6)\n",
        "\n",
        "        history = model.fit(\n",
        "            train_data,\n",
        "            epochs=epochs,\n",
        "            validation_data=val_data,\n",
        "            callbacks=[early_stopping, model_checkpoint, reduce_lr]\n",
        "        )\n",
        "        print(\"Model trained successfully.\")\n",
        "        return history\n",
        "    except Exception as e:\n",
        "        print(f\"Error training model: {e}\")\n",
        "        return None\n",
        "\n",
        "if model and train_data and val_data:\n",
        "    history = train_model(model, train_data, val_data)\n",
        "else:\n",
        "    history = None\n"
      ],
      "metadata": {
        "colab": {
          "base_uri": "https://localhost:8080/"
        },
        "id": "l9_qzu2bOFe4",
        "outputId": "42958a4e-966f-44f1-a428-368a7cafb230"
      },
      "execution_count": 34,
      "outputs": [
        {
          "output_type": "stream",
          "name": "stdout",
          "text": [
            "Epoch 1/50\n",
            "16/16 [==============================] - ETA: 0s - loss: 2.0976 - accuracy: 0.1988"
          ]
        },
        {
          "output_type": "stream",
          "name": "stderr",
          "text": [
            "/usr/local/lib/python3.10/dist-packages/keras/src/engine/training.py:3103: UserWarning: You are saving your model as an HDF5 file via `model.save()`. This file format is considered legacy. We recommend using instead the native Keras format, e.g. `model.save('my_model.keras')`.\n",
            "  saving_api.save_model(\n"
          ]
        },
        {
          "output_type": "stream",
          "name": "stdout",
          "text": [
            "\b\b\b\b\b\b\b\b\b\b\b\b\b\b\b\b\b\b\b\b\b\b\b\b\b\b\b\b\b\b\b\b\b\b\b\b\b\b\b\b\b\b\b\b\b\b\b\b\b\b\b\b\b\b\b\b\b\b\b\b\b\b\b\b\b\b\b\b\b\b\b\b\b\b\b\b\b\b\b\b\b\b\r16/16 [==============================] - 19s 880ms/step - loss: 2.0976 - accuracy: 0.1988 - val_loss: 1.7432 - val_accuracy: 0.2439 - lr: 0.0010\n",
            "Epoch 2/50\n",
            "16/16 [==============================] - 10s 643ms/step - loss: 1.8541 - accuracy: 0.2545 - val_loss: 1.5745 - val_accuracy: 0.2358 - lr: 0.0010\n",
            "Epoch 3/50\n",
            "16/16 [==============================] - 9s 542ms/step - loss: 1.7577 - accuracy: 0.2326 - val_loss: 1.5862 - val_accuracy: 0.2276 - lr: 0.0010\n",
            "Epoch 4/50\n",
            "16/16 [==============================] - 9s 595ms/step - loss: 1.7536 - accuracy: 0.2763 - val_loss: 1.6754 - val_accuracy: 0.2520 - lr: 0.0010\n",
            "Epoch 5/50\n",
            "16/16 [==============================] - 10s 606ms/step - loss: 1.8311 - accuracy: 0.2545 - val_loss: 1.8027 - val_accuracy: 0.2520 - lr: 0.0010\n",
            "Epoch 6/50\n",
            "16/16 [==============================] - 9s 594ms/step - loss: 1.7361 - accuracy: 0.2724 - val_loss: 1.7264 - val_accuracy: 0.2927 - lr: 0.0010\n",
            "Epoch 7/50\n",
            "16/16 [==============================] - 8s 529ms/step - loss: 1.7092 - accuracy: 0.2823 - val_loss: 1.6736 - val_accuracy: 0.2846 - lr: 0.0010\n",
            "Epoch 8/50\n",
            "16/16 [==============================] - 9s 588ms/step - loss: 1.6017 - accuracy: 0.3062 - val_loss: 1.6825 - val_accuracy: 0.2520 - lr: 0.0010\n",
            "Epoch 9/50\n",
            "16/16 [==============================] - 10s 633ms/step - loss: 1.6702 - accuracy: 0.2744 - val_loss: 1.5651 - val_accuracy: 0.3008 - lr: 0.0010\n",
            "Epoch 10/50\n",
            "16/16 [==============================] - 9s 600ms/step - loss: 1.7102 - accuracy: 0.2604 - val_loss: 1.6651 - val_accuracy: 0.2683 - lr: 0.0010\n",
            "Epoch 11/50\n",
            "16/16 [==============================] - 8s 520ms/step - loss: 1.6330 - accuracy: 0.2863 - val_loss: 1.7865 - val_accuracy: 0.2602 - lr: 0.0010\n",
            "Epoch 12/50\n",
            "16/16 [==============================] - 10s 650ms/step - loss: 1.5885 - accuracy: 0.3201 - val_loss: 1.6890 - val_accuracy: 0.2927 - lr: 0.0010\n",
            "Epoch 13/50\n",
            "16/16 [==============================] - 9s 585ms/step - loss: 1.6184 - accuracy: 0.2883 - val_loss: 1.6195 - val_accuracy: 0.3008 - lr: 0.0010\n",
            "Epoch 14/50\n",
            "16/16 [==============================] - 9s 600ms/step - loss: 1.5379 - accuracy: 0.3241 - val_loss: 1.7383 - val_accuracy: 0.2520 - lr: 0.0010\n",
            "Epoch 15/50\n",
            "16/16 [==============================] - 8s 528ms/step - loss: 1.6325 - accuracy: 0.3082 - val_loss: 1.8908 - val_accuracy: 0.2683 - lr: 0.0010\n",
            "Epoch 16/50\n",
            "16/16 [==============================] - 9s 530ms/step - loss: 1.5970 - accuracy: 0.3400 - val_loss: 1.6100 - val_accuracy: 0.3089 - lr: 0.0010\n",
            "Epoch 17/50\n",
            "16/16 [==============================] - 10s 606ms/step - loss: 1.5348 - accuracy: 0.3241 - val_loss: 1.6369 - val_accuracy: 0.2602 - lr: 0.0010\n",
            "Epoch 18/50\n",
            "16/16 [==============================] - 9s 599ms/step - loss: 1.5245 - accuracy: 0.3181 - val_loss: 1.7852 - val_accuracy: 0.3008 - lr: 0.0010\n",
            "Epoch 19/50\n",
            "16/16 [==============================] - 9s 603ms/step - loss: 1.6096 - accuracy: 0.3062 - val_loss: 1.7567 - val_accuracy: 0.1951 - lr: 0.0010\n",
            "Model trained successfully.\n"
          ]
        }
      ]
    },
    {
      "cell_type": "markdown",
      "source": [
        "Part 5: Evaluating the Model\n"
      ],
      "metadata": {
        "id": "gFt5e4NnOLCO"
      }
    },
    {
      "cell_type": "code",
      "source": [
        "# Part 5: Evaluating the Model\n",
        "def plot_history(history):\n",
        "    if history:\n",
        "        try:\n",
        "            plt.figure(figsize=(12, 4))\n",
        "            plt.subplot(1, 2, 1)\n",
        "            plt.plot(history.history['accuracy'], label='accuracy')\n",
        "            plt.plot(history.history['val_accuracy'], label='val_accuracy')\n",
        "            plt.xlabel('Epoch')\n",
        "            plt.ylabel('Accuracy')\n",
        "            plt.ylim([0, 1])\n",
        "            plt.legend(loc='lower right')\n",
        "\n",
        "            plt.subplot(1, 2, 2)\n",
        "            plt.plot(history.history['loss'], label='loss')\n",
        "            plt.plot(history.history['val_loss'], label='val_loss')\n",
        "            plt.xlabel('Epoch')\n",
        "            plt.ylabel('Loss')\n",
        "            plt.ylim([0, 2])\n",
        "            plt.legend(loc='upper right')\n",
        "\n",
        "            plt.show()\n",
        "            print(\"Model evaluation plotted successfully.\")\n",
        "        except Exception as e:\n",
        "            print(f\"Error plotting history: {e}\")\n",
        "    else:\n",
        "        print(\"No history to plot.\")\n",
        "\n",
        "plot_history(history)\n"
      ],
      "metadata": {
        "colab": {
          "base_uri": "https://localhost:8080/",
          "height": 410
        },
        "id": "0QuQ7xVGOG85",
        "outputId": "3a480b30-a715-4a50-fbee-2548fbd30a26"
      },
      "execution_count": 35,
      "outputs": [
        {
          "output_type": "display_data",
          "data": {
            "text/plain": [
              "<Figure size 1200x400 with 2 Axes>"
            ],
            "image/png": "[encoded data removed]"
          },
          "metadata": {}
        },
        {
          "output_type": "stream",
          "name": "stdout",
          "text": [
            "Model evaluation plotted successfully.\n"
          ]
        }
      ]
    },
    {
      "cell_type": "markdown",
      "source": [
        "Part 6: Error Handling and Execution\n"
      ],
      "metadata": {
        "id": "gX3XEt5fOKJP"
      }
    },
    {
      "cell_type": "code",
      "source": [
        "# Part 6: Error Handling and Execution\n",
        "def main(data_directory):\n",
        "    try:\n",
        "        train_data, val_data = load_data(data_directory)\n",
        "        if train_data and val_data:\n",
        "            input_shape = (224, 224, 3)  # EfficientNet input shape\n",
        "            model = build_model(input_shape)\n",
        "            if model:\n",
        "                history = train_model(model, train_data, val_data)\n",
        "                if history:\n",
        "                    plot_history(history)\n",
        "                    print(\"Model training complete and saved as best_chess_piece_classifier.keras\")\n",
        "                else:\n",
        "                    print(\"Training was unsuccessful.\")\n",
        "            else:\n",
        "                print(\"Model building was unsuccessful.\")\n",
        "        else:\n",
        "            print(\"Data loading was unsuccessful.\")\n",
        "    except Exception as e:\n",
        "        print(f\"An error occurred: {e}\")\n",
        "\n",
        "# Run the main function with the path to your dataset\n",
        "data_directory = 'Dataset_Catur'\n",
        "main(data_directory)\n"
      ],
      "metadata": {
        "colab": {
          "base_uri": "https://localhost:8080/",
          "height": 1000
        },
        "id": "dzVHX4dEOIma",
        "outputId": "bcf10d1c-489f-4e9e-8f73-39cc61ffec58"
      },
      "execution_count": 36,
      "outputs": [
        {
          "output_type": "stream",
          "name": "stdout",
          "text": [
            "Found 503 images belonging to 5 classes.\n",
            "Found 123 images belonging to 5 classes.\n",
            "Class indices: {'benteng': 0, 'pion': 1, 'queen': 2, 'raja': 3, 'seluncur': 4}\n",
            "Data loaded successfully.\n",
            "Model built successfully.\n",
            "Epoch 1/50\n",
            "16/16 [==============================] - 15s 701ms/step - loss: 2.0478 - accuracy: 0.2306 - val_loss: 2.1001 - val_accuracy: 0.1870 - lr: 0.0010\n",
            "Epoch 2/50\n",
            "16/16 [==============================] - 9s 561ms/step - loss: 1.9224 - accuracy: 0.2366 - val_loss: 1.6315 - val_accuracy: 0.2927 - lr: 0.0010\n",
            "Epoch 3/50\n",
            "16/16 [==============================] - 9s 588ms/step - loss: 1.9648 - accuracy: 0.2227 - val_loss: 1.8667 - val_accuracy: 0.1870 - lr: 0.0010\n",
            "Epoch 4/50\n",
            "16/16 [==============================] - 10s 601ms/step - loss: 1.7969 - accuracy: 0.2883 - val_loss: 1.6593 - val_accuracy: 0.2683 - lr: 0.0010\n",
            "Epoch 5/50\n",
            "16/16 [==============================] - 10s 627ms/step - loss: 1.6852 - accuracy: 0.2942 - val_loss: 1.6147 - val_accuracy: 0.1870 - lr: 0.0010\n",
            "Epoch 6/50\n",
            "16/16 [==============================] - 8s 520ms/step - loss: 1.7477 - accuracy: 0.2724 - val_loss: 1.6500 - val_accuracy: 0.2602 - lr: 0.0010\n",
            "Epoch 7/50\n",
            "16/16 [==============================] - 9s 587ms/step - loss: 1.7363 - accuracy: 0.3082 - val_loss: 1.7151 - val_accuracy: 0.2439 - lr: 0.0010\n",
            "Epoch 8/50\n",
            "16/16 [==============================] - 10s 636ms/step - loss: 1.6896 - accuracy: 0.2922 - val_loss: 1.5872 - val_accuracy: 0.2764 - lr: 0.0010\n",
            "Epoch 9/50\n",
            "16/16 [==============================] - 9s 587ms/step - loss: 1.6682 - accuracy: 0.2922 - val_loss: 1.7457 - val_accuracy: 0.1626 - lr: 0.0010\n",
            "Epoch 10/50\n",
            "16/16 [==============================] - 8s 512ms/step - loss: 1.6786 - accuracy: 0.2783 - val_loss: 1.7084 - val_accuracy: 0.2602 - lr: 0.0010\n",
            "Epoch 11/50\n",
            "16/16 [==============================] - 9s 592ms/step - loss: 1.6809 - accuracy: 0.2903 - val_loss: 1.7473 - val_accuracy: 0.2683 - lr: 0.0010\n",
            "Epoch 12/50\n",
            "16/16 [==============================] - 10s 648ms/step - loss: 1.6442 - accuracy: 0.2863 - val_loss: 1.7628 - val_accuracy: 0.2520 - lr: 0.0010\n",
            "Epoch 13/50\n",
            "16/16 [==============================] - 10s 608ms/step - loss: 1.6019 - accuracy: 0.3360 - val_loss: 1.5685 - val_accuracy: 0.2927 - lr: 0.0010\n",
            "Epoch 14/50\n",
            "16/16 [==============================] - 9s 563ms/step - loss: 1.6168 - accuracy: 0.3101 - val_loss: 1.5430 - val_accuracy: 0.2764 - lr: 0.0010\n",
            "Epoch 15/50\n",
            "16/16 [==============================] - 9s 584ms/step - loss: 1.6202 - accuracy: 0.2922 - val_loss: 1.6253 - val_accuracy: 0.2520 - lr: 0.0010\n",
            "Epoch 16/50\n",
            "16/16 [==============================] - 9s 589ms/step - loss: 1.6203 - accuracy: 0.2843 - val_loss: 1.8468 - val_accuracy: 0.1870 - lr: 0.0010\n",
            "Epoch 17/50\n",
            "16/16 [==============================] - 9s 571ms/step - loss: 1.6323 - accuracy: 0.2863 - val_loss: 1.7251 - val_accuracy: 0.2846 - lr: 0.0010\n",
            "Epoch 18/50\n",
            "16/16 [==============================] - 9s 561ms/step - loss: 1.5754 - accuracy: 0.3082 - val_loss: 1.5394 - val_accuracy: 0.2927 - lr: 0.0010\n",
            "Epoch 19/50\n",
            "16/16 [==============================] - 9s 580ms/step - loss: 1.5297 - accuracy: 0.3380 - val_loss: 1.8263 - val_accuracy: 0.1789 - lr: 0.0010\n",
            "Epoch 20/50\n",
            "16/16 [==============================] - 9s 587ms/step - loss: 1.5462 - accuracy: 0.3340 - val_loss: 1.7471 - val_accuracy: 0.2683 - lr: 0.0010\n",
            "Epoch 21/50\n",
            "16/16 [==============================] - 12s 759ms/step - loss: 1.5446 - accuracy: 0.3022 - val_loss: 2.3729 - val_accuracy: 0.2195 - lr: 0.0010\n",
            "Epoch 22/50\n",
            "16/16 [==============================] - 9s 541ms/step - loss: 1.5725 - accuracy: 0.3400 - val_loss: 2.0945 - val_accuracy: 0.2114 - lr: 0.0010\n",
            "Epoch 23/50\n",
            "16/16 [==============================] - 8s 521ms/step - loss: 1.5427 - accuracy: 0.3161 - val_loss: 1.8217 - val_accuracy: 0.2276 - lr: 0.0010\n",
            "Epoch 24/50\n",
            "16/16 [==============================] - 9s 589ms/step - loss: 1.5722 - accuracy: 0.3201 - val_loss: 1.8460 - val_accuracy: 0.2358 - lr: 0.0010\n",
            "Epoch 25/50\n",
            "16/16 [==============================] - 9s 582ms/step - loss: 1.5551 - accuracy: 0.3221 - val_loss: 2.1684 - val_accuracy: 0.2683 - lr: 0.0010\n",
            "Epoch 26/50\n",
            "16/16 [==============================] - 9s 581ms/step - loss: 1.5026 - accuracy: 0.3579 - val_loss: 1.7311 - val_accuracy: 0.2439 - lr: 0.0010\n",
            "Epoch 27/50\n",
            "16/16 [==============================] - 8s 532ms/step - loss: 1.5549 - accuracy: 0.3400 - val_loss: 2.1461 - val_accuracy: 0.2927 - lr: 0.0010\n",
            "Epoch 28/50\n",
            "16/16 [==============================] - 10s 606ms/step - loss: 1.5520 - accuracy: 0.2903 - val_loss: 1.6792 - val_accuracy: 0.2764 - lr: 0.0010\n",
            "Model trained successfully.\n"
          ]
        },
        {
          "output_type": "display_data",
          "data": {
            "text/plain": [
              "<Figure size 1200x400 with 2 Axes>"
            ],
            "image/png": "[encoded data removed]"
          },
          "metadata": {}
        },
        {
          "output_type": "stream",
          "name": "stdout",
          "text": [
            "Model evaluation plotted successfully.\n",
            "Model training complete and saved as best_chess_piece_classifier.h5\n"
          ]
        }
      ]
    },
    {
      "cell_type": "markdown",
      "source": [
        "Part 7: Testing the Model\n"
      ],
      "metadata": {
        "id": "GEzAEaC6QQqz"
      }
    },
    {
      "cell_type": "code",
      "source": [
        "# Part 7: Testing the Model\n",
        "def test_model(model_path, test_image_path, img_size=(224, 224)):\n",
        "    try:\n",
        "        model = load_model(model_path)\n",
        "        image = load_img(test_image_path, target_size=img_size)\n",
        "        image_array = img_to_array(image)\n",
        "        image_array = np.expand_dims(image_array, axis=0) / 255.0\n",
        "        prediction = model.predict(image_array)\n",
        "        class_indices = {'benteng': 0, 'king': 1, 'pion': 2, 'queen': 3, 'seluncur': 4}\n",
        "        class_names = list(class_indices.keys())\n",
        "        predicted_class = class_names[np.argmax(prediction)]\n",
        "        print(f\"The predicted class is: {predicted_class}\")\n",
        "    except Exception as e:\n",
        "        print(f\"Error testing model: {e}\")\n",
        "\n",
        "# Test the model with a new image\n",
        "test_image_path = 'path_to_test_image'  # Replace with the path to your test image\n",
        "test_model('best_chess_piece_classifier.keras', test_image_path)\n"
      ],
      "metadata": {
        "colab": {
          "base_uri": "https://localhost:8080/"
        },
        "id": "TPOFsBHeQPJ0",
        "outputId": "79dcd3ba-fc3b-46ac-d5a3-4ed2a76fc3bf"
      },
      "execution_count": 39,
      "outputs": [
        {
          "output_type": "stream",
          "name": "stdout",
          "text": [
            "1/1 [==============================] - 2s 2s/step\n",
            "The predicted class is: pion\n"
          ]
        }
      ]
    },
    {
      "cell_type": "markdown",
      "source": [
        "rename file and remove"
      ],
      "metadata": {
        "id": "kuvq32B1V-9w"
      }
    },
    {
      "cell_type": "code",
      "source": [
        "import os\n",
        "\n",
        "def remove_extra_class(data_directory, extra_class_name='kuda'):\n",
        "    extra_class_dir = os.path.join(data_directory, extra_class_name)\n",
        "    if os.path.exists(extra_class_dir) and os.path.isdir(extra_class_dir):\n",
        "        for filename in os.listdir(extra_class_dir):\n",
        "            file_path = os.path.join(extra_class_dir, filename)\n",
        "            if os.path.isfile(file_path):\n",
        "                os.remove(file_path)\n",
        "        os.rmdir(extra_class_dir)\n",
        "        print(f\"Removed extra class directory: {extra_class_name}\")\n",
        "\n",
        "def rename_and_reorder_files(data_directory):\n",
        "    for class_name in os.listdir(data_directory):\n",
        "        class_dir = os.path.join(data_directory, class_name)\n",
        "        if os.path.isdir(class_dir):\n",
        "            files = sorted(os.listdir(class_dir))\n",
        "            idx = 0\n",
        "            for filename in files:\n",
        "                file_path = os.path.join(class_dir, filename)\n",
        "                if os.path.isfile(file_path):\n",
        "                    # Check the file extension\n",
        "                    extension = filename.split('.')[-1].lower()\n",
        "                    if extension == 'jpg' or extension == 'jpeg':\n",
        "                        # Determine the new file name\n",
        "                        new_name = f'{idx:08d}.jpg'\n",
        "                        new_path = os.path.join(class_dir, new_name)\n",
        "                        os.rename(file_path, new_path)\n",
        "                        idx += 1\n",
        "                    else:\n",
        "                        os.remove(file_path)  # Remove non-JPG files\n",
        "            print(f'Processed files in {class_dir}')\n",
        "\n",
        "data_directory = 'Dataset_Catur'\n",
        "\n",
        "# Remove the extra class \"kuda\"\n",
        "remove_extra_class(data_directory, extra_class_name='kuda')\n",
        "\n",
        "# Rename and reorder files\n",
        "rename_and_reorder_files(data_directory)\n",
        "print(\"Files processed, renamed, reordered, and non-JPG files removed successfully.\")\n"
      ],
      "metadata": {
        "colab": {
          "base_uri": "https://localhost:8080/"
        },
        "id": "81eRNeDdTjFO",
        "outputId": "6603b5c2-10ac-40b4-e17f-f5972d22529e"
      },
      "execution_count": 30,
      "outputs": [
        {
          "output_type": "stream",
          "name": "stdout",
          "text": [
            "Removed extra class directory: kuda\n",
            "Processed files in Dataset_Catur/queen\n",
            "Processed files in Dataset_Catur/raja\n",
            "Processed files in Dataset_Catur/pion\n",
            "Processed files in Dataset_Catur/benteng\n",
            "Processed files in Dataset_Catur/seluncur\n",
            "Files processed, renamed, reordered, and non-JPG files removed successfully.\n"
          ]
        }
      ]
    }
  ]
}